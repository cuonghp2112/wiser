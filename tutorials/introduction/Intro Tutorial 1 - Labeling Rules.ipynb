{
 "cells": [
  {
   "cell_type": "markdown",
   "metadata": {
    "collapsed": true
   },
   "source": [
    "# An Introduction to WISER: Part 1 - Labeling Rules\n",
    "\n",
    "Welcome to WISER (*Weak and Indirect Supervision for Entity Recognition*), a system for training sequence-to-sequence tagging models, particularly neural networks for named entity recognition (NER) and related tasks.\n",
    "\n",
    "WISER uses *weak supervision* in the form of rules to train these models, as opposed to hand-labeled training data.\n",
    "\n",
    "## Loading Data\n",
    "WISER is an add-on to [AllenNLP](http://allennlp.org), a great framework for natural language processing. That means we can use their tools for working with data.\n",
    "\n",
    "__TODO: pointers to prerequisite installation__\n",
    "\n",
    "Let's start by loading the [CoNLL 2003](https://www.clips.uantwerpen.be/conll2003/ner/) dataset, a common benchmark for NER."
   ]
  },
  {
   "cell_type": "code",
   "execution_count": 1,
   "metadata": {},
   "outputs": [],
   "source": [
    "import sys\n",
    "sys.path.append('../..')"
   ]
  },
  {
   "cell_type": "code",
   "execution_count": 2,
   "metadata": {
    "scrolled": true
   },
   "outputs": [],
   "source": [
    "%%capture\n",
    "from allennlp.data.dataset_readers.conll2003 import Conll2003DatasetReader\n",
    "\n",
    "dataset_reader = Conll2003DatasetReader(coding_scheme='IOB1')\n",
    "training_data = dataset_reader.read('../data/conll/eng.train')\n",
    "dev_data = dataset_reader.read('../data/conll/eng.testa')\n",
    "\n",
    "# We must merge all data partitions to simultaneously apply weak supervision rules to all of them\n",
    "data = training_data + dev_data"
   ]
  },
  {
   "cell_type": "markdown",
   "metadata": {},
   "source": [
    "The easiest way to use WISER with other data sets is to implement a new subclass of AllenNLP's [DatasetReader](https://allenai.github.io/allennlp-docs/api/allennlp.data.dataset_readers.dataset_reader.html#allennlp.data.dataset_readers.dataset_reader.DatasetReader). We have some additional examples in the package `wiser.data.dataset_readers`."
   ]
  },
  {
   "cell_type": "markdown",
   "metadata": {},
   "source": [
    "## Inspecting Data\n",
    "Once the data is loaded, we use a WISER class called `Viewer` to inspect the sentences and tags."
   ]
  },
  {
   "cell_type": "code",
   "execution_count": 3,
   "metadata": {},
   "outputs": [
    {
     "data": {
      "application/javascript": [
       "require.undef('viewer');\n",
       "\n",
       "// NOTE: all elements should be selected using this.$el.find to avoid collisions with other Viewers\n",
       "\n",
       "define('viewer', [\"@jupyter-widgets/base\"], function(widgets) {\n",
       "    var ViewerView = widgets.DOMWidgetView.extend({\n",
       "        // Main rendering function\n",
       "        render: function() {\n",
       "            // Insert the html\n",
       "            this.$el.append(this.model.get('html'));\n",
       "            this.nPages = this.model.get('n_instances');\n",
       "            this.$el.append(this.nPages);\n",
       "            // Set the instance id\n",
       "            this.id  = 0;\n",
       "            // Set the label source\n",
       "            this.source = 0;\n",
       "\n",
       "            // Enable buttons for changing page\n",
       "            var that = this;\n",
       "            this.$el.find(\"#next-page\").click(function() {\n",
       "                that.switchPage(1);\n",
       "            });\n",
       "            this.$el.find(\"#prev-page\").click(function() {\n",
       "                that.switchPage(-1);\n",
       "            });\n",
       "\n",
       "            // Enable select menu for changing label source\n",
       "            this.$el.find(\"#source\").change(function() {\n",
       "                that.switchSource();\n",
       "            })\n",
       "        },\n",
       "\n",
       "        switchPage: function(inc) {\n",
       "            this.$el.find(\".viewer-page\").hide();\n",
       "            if (this.id + inc < 0) {\n",
       "                this.id = 0;\n",
       "            } else if (this.id + inc >= this.nPages - 1) {\n",
       "                this.id = this.nPages - 1;\n",
       "            } else {\n",
       "                this.id += inc;\n",
       "            }\n",
       "            this.$el.find(\"#viewer-page-\"+this.id+\"-\"+this.source).show();\n",
       "\n",
       "            // Show page id\n",
       "            this.$el.find(\"#page\").html(this.id);\n",
       "        },\n",
       "\n",
       "        switchSource: function() {\n",
       "            this.source = this.$el.find(\"#source\").val();\n",
       "            this.switchPage(0);\n",
       "        }\n",
       "    });\n",
       "\n",
       "    return {\n",
       "        ViewerView: ViewerView\n",
       "    };\n",
       "});"
      ],
      "text/plain": [
       "<IPython.core.display.Javascript object>"
      ]
     },
     "metadata": {},
     "output_type": "display_data"
    },
    {
     "data": {
      "application/vnd.jupyter.widget-view+json": {
       "model_id": "a29cf65e0ed84cf883408a3c00cfeb41",
       "version_major": 2,
       "version_minor": 0
      },
      "text/plain": [
       "Viewer(html='<head>\\n<style>\\nspan.active {\\n    background-color: skyblue;\\n    box-shadow: 1px 1px 1px grey;…"
      ]
     },
     "metadata": {},
     "output_type": "display_data"
    }
   ],
   "source": [
    "from wiser.viewer import Viewer\n",
    "Viewer(data, height=100)"
   ]
  },
  {
   "cell_type": "markdown",
   "metadata": {},
   "source": [
    "You can use the left and right buttons to flip through the items in `dev_data`, each of which is an AllenNLP [`Instance`](https://allenai.github.io/allennlp-docs/api/allennlp.data.instance.html#allennlp.data.instance.Instance). The highlighted spans are the entities, and you can hover over each one with your cursor to see whether it is a person (PER), location (LOC), organization (ORG), or miscellaneous (MISC).\n",
    "\n",
    "The drop-down menu selects which source of labels is displayed. Currently only the gold labels from the benchmark are available, but we will add more soon.\n",
    "\n",
    "Advance to the instance at index 2 to see an example with multiple entities of different classes. You can access the underlying tokens and tags too."
   ]
  },
  {
   "cell_type": "markdown",
   "metadata": {},
   "source": [
    "Notice that WISER uses the [IOB1 tagging scheme](https://en.wikipedia.org/wiki/Inside%E2%80%93outside%E2%80%93beginning_(tagging)), meaning that entities are represented as consecutive tags beginning with `I`. Many data sets use subsequent characters for different classes, for example `-MISC` and `-PER` here for miscellaneous and person, respectively. The `O` tag means that the token is not part of an entity. There is also a special set of tags beginning with `B` (like those beginning with `I`) that are used to start a new entity that immediately follows another of the same class without an `O` tag in between."
   ]
  },
  {
   "cell_type": "markdown",
   "metadata": {},
   "source": [
    "## Writing Labeling Functions"
   ]
  },
  {
   "cell_type": "markdown",
   "metadata": {},
   "source": [
    "Inspecting the data will give you an idea of the tagging structure of sentences. Therefore, we can start writing our own labeling functions. "
   ]
  },
  {
   "cell_type": "code",
   "execution_count": 4,
   "metadata": {},
   "outputs": [],
   "source": [
    "from wiser.lf import LabelingFunction"
   ]
  },
  {
   "cell_type": "code",
   "execution_count": 5,
   "metadata": {},
   "outputs": [],
   "source": [
    "class ConsecutiveCapitalization(LabelingFunction):\n",
    "    \n",
    "    def apply_instance(self, instance):\n",
    "        labels = ['ABS'] * len(instance['tokens'])\n",
    "        \n",
    "        for i in range(1, len(instance['tokens'])):\n",
    "            if instance['tokens'][i].text.istitle():\n",
    "                labels[i] = \"I-PER\"\n",
    "        return labels\n",
    "\n",
    "lf = ConsecutiveCapitalization()\n",
    "lf.apply(data)"
   ]
  },
  {
   "cell_type": "markdown",
   "metadata": {},
   "source": [
    "You can also use existing labeling function helpers available at `wiser.lf`"
   ]
  },
  {
   "cell_type": "code",
   "execution_count": 6,
   "metadata": {},
   "outputs": [],
   "source": [
    "from wiser.lf import DictionaryMatcher"
   ]
  },
  {
   "cell_type": "code",
   "execution_count": 7,
   "metadata": {},
   "outputs": [],
   "source": [
    "# Tags all countries found in an external dataset as 'I-LOC'\n",
    "import csv\n",
    "with open('../data/countries.csv') as csvfile:\n",
    "    country_list = list(csv.reader(csvfile))\n",
    "\n",
    "lf = DictionaryMatcher(\"Countries\", terms=country_list, uncased=True, i_label=\"I-LOC\")\n",
    "lf.apply(data)"
   ]
  },
  {
   "cell_type": "code",
   "execution_count": 8,
   "metadata": {},
   "outputs": [],
   "source": [
    "# Tags all punctuations signs as 'O'\n",
    "punctuation_chars = {'.', ',', ':', ';', '-', '?', '!', '@', '$'}\n",
    "\n",
    "lf = DictionaryMatcher(\"Punctuation\", terms=punctuation_chars, i_label=\"O\")\n",
    "lf.apply(data)"
   ]
  },
  {
   "cell_type": "markdown",
   "metadata": {},
   "source": [
    "# Evaluating Labeling Functions"
   ]
  },
  {
   "cell_type": "markdown",
   "metadata": {},
   "source": [
    "We can evalualte labeling functions on the development set in either of two ways. First, we can inspect individual labeling functions using the ``score_individual_labeling_functions`` method."
   ]
  },
  {
   "cell_type": "code",
   "execution_count": 9,
   "metadata": {},
   "outputs": [
    {
     "data": {
      "text/html": [
       "<div>\n",
       "<style scoped>\n",
       "    .dataframe tbody tr th:only-of-type {\n",
       "        vertical-align: middle;\n",
       "    }\n",
       "\n",
       "    .dataframe tbody tr th {\n",
       "        vertical-align: top;\n",
       "    }\n",
       "\n",
       "    .dataframe thead th {\n",
       "        text-align: right;\n",
       "    }\n",
       "</style>\n",
       "<table border=\"1\" class=\"dataframe\">\n",
       "  <thead>\n",
       "    <tr style=\"text-align: right;\">\n",
       "      <th></th>\n",
       "      <th>TP</th>\n",
       "      <th>FP</th>\n",
       "      <th>FN</th>\n",
       "      <th>Token Acc.</th>\n",
       "      <th>Token Votes</th>\n",
       "    </tr>\n",
       "  </thead>\n",
       "  <tbody>\n",
       "    <tr>\n",
       "      <th>ConsecutiveCapitalization</th>\n",
       "      <td>1348</td>\n",
       "      <td>4110</td>\n",
       "      <td>4595</td>\n",
       "      <td>0.3625</td>\n",
       "      <td>7498</td>\n",
       "    </tr>\n",
       "    <tr>\n",
       "      <th>Countries</th>\n",
       "      <td>712</td>\n",
       "      <td>46</td>\n",
       "      <td>5231</td>\n",
       "      <td>0.9538</td>\n",
       "      <td>758</td>\n",
       "    </tr>\n",
       "    <tr>\n",
       "      <th>Punctuation</th>\n",
       "      <td>0</td>\n",
       "      <td>0</td>\n",
       "      <td>5943</td>\n",
       "      <td>0.9993</td>\n",
       "      <td>4463</td>\n",
       "    </tr>\n",
       "  </tbody>\n",
       "</table>\n",
       "</div>"
      ],
      "text/plain": [
       "                             TP    FP    FN  Token Acc.  Token Votes\n",
       "ConsecutiveCapitalization  1348  4110  4595      0.3625         7498\n",
       "Countries                   712    46  5231      0.9538          758\n",
       "Punctuation                   0     0  5943      0.9993         4463"
      ]
     },
     "execution_count": 9,
     "metadata": {},
     "output_type": "execute_result"
    }
   ],
   "source": [
    "from wiser.lf import score_individual_labeling_functions\n",
    "score_individual_labeling_functions(dev_data)"
   ]
  },
  {
   "cell_type": "markdown",
   "metadata": {},
   "source": [
    "We can also look inspect at the precision, recall, and F1 scores of the combined labeling rules with ``score_labeling_functions_majority_vote``"
   ]
  },
  {
   "cell_type": "code",
   "execution_count": 10,
   "metadata": {},
   "outputs": [
    {
     "data": {
      "text/html": [
       "<div>\n",
       "<style scoped>\n",
       "    .dataframe tbody tr th:only-of-type {\n",
       "        vertical-align: middle;\n",
       "    }\n",
       "\n",
       "    .dataframe tbody tr th {\n",
       "        vertical-align: top;\n",
       "    }\n",
       "\n",
       "    .dataframe thead th {\n",
       "        text-align: right;\n",
       "    }\n",
       "</style>\n",
       "<table border=\"1\" class=\"dataframe\">\n",
       "  <thead>\n",
       "    <tr style=\"text-align: right;\">\n",
       "      <th></th>\n",
       "      <th>TP</th>\n",
       "      <th>FP</th>\n",
       "      <th>FN</th>\n",
       "      <th>P</th>\n",
       "      <th>R</th>\n",
       "      <th>F1</th>\n",
       "    </tr>\n",
       "  </thead>\n",
       "  <tbody>\n",
       "    <tr>\n",
       "      <th>Majority Vote</th>\n",
       "      <td>1494</td>\n",
       "      <td>3552</td>\n",
       "      <td>4449</td>\n",
       "      <td>0.2961</td>\n",
       "      <td>0.2514</td>\n",
       "      <td>0.2719</td>\n",
       "    </tr>\n",
       "  </tbody>\n",
       "</table>\n",
       "</div>"
      ],
      "text/plain": [
       "                 TP    FP    FN       P       R      F1\n",
       "Majority Vote  1494  3552  4449  0.2961  0.2514  0.2719"
      ]
     },
     "execution_count": 10,
     "metadata": {},
     "output_type": "execute_result"
    }
   ],
   "source": [
    "from wiser.lf import score_labeling_functions_majority_vote\n",
    "score_labeling_functions_majority_vote(dev_data)"
   ]
  },
  {
   "cell_type": "markdown",
   "metadata": {},
   "source": [
    "# Saving Progress\n",
    "We can use pickle to store the data with the labeling function applied to it"
   ]
  },
  {
   "cell_type": "code",
   "execution_count": 11,
   "metadata": {},
   "outputs": [],
   "source": [
    "import pickle\n",
    "\n",
    "with open('tmp/training_data.p', 'wb') as f:\n",
    "    pickle.dump(training_data, f)\n",
    "\n",
    "with open('tmp/dev_data.p', 'wb') as f:\n",
    "    pickle.dump(dev_data, f)"
   ]
  },
  {
   "cell_type": "markdown",
   "metadata": {},
   "source": [
    "You have completed part 1! Now you can move on to part 2."
   ]
  }
 ],
 "metadata": {
  "kernelspec": {
   "display_name": "Python 3",
   "language": "python",
   "name": "python3"
  },
  "language_info": {
   "codemirror_mode": {
    "name": "ipython",
    "version": 3
   },
   "file_extension": ".py",
   "mimetype": "text/x-python",
   "name": "python",
   "nbconvert_exporter": "python",
   "pygments_lexer": "ipython3",
   "version": "3.7.2"
  }
 },
 "nbformat": 4,
 "nbformat_minor": 1
}
